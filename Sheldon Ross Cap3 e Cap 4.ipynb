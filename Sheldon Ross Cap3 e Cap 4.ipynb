{
 "cells": [
  {
   "cell_type": "markdown",
   "metadata": {},
   "source": [
    "# Francisco Matheus Pinheiro Nery Barbosa\n",
    "Congruencia Linear "
   ]
  },
  {
   "cell_type": "code",
   "execution_count": 2,
   "metadata": {},
   "outputs": [],
   "source": [
    "%matplotlib inline \n",
    "from scipy import random\n",
    "import numpy as np\n",
    "import matplotlib.pyplot as plt"
   ]
  },
  {
   "cell_type": "code",
   "execution_count": 2,
   "metadata": {},
   "outputs": [
    {
     "name": "stdout",
     "output_type": "stream",
     "text": [
      "[32, 167, 119, 120, 125, 150, 34, 177, 169, 129, 170, 134, 195, 18, 97, 10, 57, 51, 21, 112]\n"
     ]
    }
   ],
   "source": [
    "def lcg(tam_amostra, a , c, mod, num_inicial):\n",
    "    amostra = []*tam_amostra\n",
    "    for i in range(tam_amostra):        \n",
    "        num_inicial = (num_inicial*a+c)% mod\n",
    "        amostra.append(num_inicial)\n",
    "    return amostra\n",
    "\n",
    "a = lcg(tam_amostra = 20,a = 5,c = 7,mod =241, num_inicial = 5)  \n",
    "print(a)"
   ]
  },
  {
   "cell_type": "markdown",
   "metadata": {},
   "source": [
    "1° Questão lista"
   ]
  },
  {
   "cell_type": "code",
   "execution_count": 3,
   "metadata": {},
   "outputs": [
    {
     "name": "stdout",
     "output_type": "stream",
     "text": [
      "[5, 15, 45, 135, 105, 15, 45, 135, 105, 15]\n"
     ]
    }
   ],
   "source": [
    "a= 5\n",
    "lista = []\n",
    "lista.append(a)\n",
    "#xn = xn-1 mod 150\n",
    "for i in range(9):\n",
    "    b = (3*a)%150\n",
    "    lista.append(b)\n",
    "    a = b\n",
    "\n",
    "print(lista)\n",
    "    "
   ]
  },
  {
   "cell_type": "markdown",
   "metadata": {},
   "source": [
    "2° Questão lista"
   ]
  },
  {
   "cell_type": "code",
   "execution_count": 4,
   "metadata": {},
   "outputs": [
    {
     "name": "stdout",
     "output_type": "stream",
     "text": [
      "[3, 22, 117, 192, 167, 42, 17, 92, 67, 142]\n"
     ]
    }
   ],
   "source": [
    "a= 3\n",
    "lista = []\n",
    "lista.append(a)\n",
    "#xn = xn-1 mod 150\n",
    "for i in range(9):\n",
    "    b = (5*a+7)%200\n",
    "    lista.append(b)\n",
    "    a = b\n",
    "\n",
    "print(lista)"
   ]
  },
  {
   "cell_type": "markdown",
   "metadata": {},
   "source": [
    "3ª Questão"
   ]
  },
  {
   "cell_type": "code",
   "execution_count": 12,
   "metadata": {},
   "outputs": [
    {
     "name": "stdout",
     "output_type": "stream",
     "text": [
      "6.32239566137\n"
     ]
    },
    {
     "data": {
      "image/png": "[encoded data removed]",
      "text/plain": [
       "<matplotlib.figure.Figure at 0x7f38501f5a58>"
      ]
     },
     "metadata": {},
     "output_type": "display_data"
    }
   ],
   "source": [
    "a = 0\n",
    "b = 1 #limites \n",
    "N = 1000\n",
    "\n",
    "\n",
    "def function(x):\n",
    "    return np.exp(np.exp(x))\n",
    "\n",
    "listresp=[]\n",
    "\n",
    "for i in range(N):\n",
    "    xrand = random.uniform(a,b,N)\n",
    "    integral = 0\n",
    "\n",
    "    for i in range(N):\n",
    "        integral += function(xrand[i])\n",
    "    \n",
    "    resp = (b-a)/float(N)*integral\n",
    "    listresp.append(resp)\n",
    "    \n",
    "    \n",
    "plt.title(\"Integral de Monte Carlo\")\n",
    "plt.hist(listresp, bins = 30, ec = \"black\")\n",
    "plt.xlabel(\"Distribution\")\n",
    "print(sum(listresp)/len(listresp))"
   ]
  },
  {
   "cell_type": "markdown",
   "metadata": {},
   "source": [
    "4ª Questão"
   ]
  },
  {
   "cell_type": "code",
   "execution_count": 16,
   "metadata": {},
   "outputs": [
    {
     "name": "stdout",
     "output_type": "stream",
     "text": [
      "0.589141945804\n"
     ]
    },
    {
     "data": {
      "image/png": "[encoded data removed]",
      "text/plain": [
       "<matplotlib.figure.Figure at 0x7f3850090c50>"
      ]
     },
     "metadata": {},
     "output_type": "display_data"
    }
   ],
   "source": [
    "a = 0\n",
    "b = 1 #limites \n",
    "N = 1000\n",
    "\n",
    "\n",
    "def function(x):\n",
    "    return (1- x**2)**(3/2)\n",
    "\n",
    "listresp=[]\n",
    "\n",
    "\n",
    "for i in range(N):\n",
    "    xrand = random.uniform(a,b,N)\n",
    "    integral = 0\n",
    "    \n",
    "    for i in range(N):\n",
    "        integral += function(xrand[i])\n",
    "    \n",
    "    resp = (b-a)/float(N)*integral\n",
    "    listresp.append(resp)\n",
    "    \n",
    "    \n",
    "plt.title(\"Integral de Monte Carlo\")\n",
    "plt.hist(listresp, bins = 30, ec = \"black\")\n",
    "plt.xlabel(\"Distribution\")\n",
    "\n",
    "print(sum(listresp)/len(listresp))"
   ]
  },
  {
   "cell_type": "markdown",
   "metadata": {},
   "source": [
    "5ª Questão $\\int_{-2}^{2} e^{x+x^2} dx$ , x = 4y - 2, logo, é igual a_ $ 4\\int_{0}^{1} e^{16y^2 - 12y + 2} dy$\n",
    "\n",
    "\n"
   ]
  },
  {
   "cell_type": "code",
   "execution_count": 19,
   "metadata": {},
   "outputs": [
    {
     "name": "stdout",
     "output_type": "stream",
     "text": [
      "93.1824977133\n"
     ]
    },
    {
     "data": {
      "image/png": "[encoded data removed]",
      "text/plain": [
       "<matplotlib.figure.Figure at 0x7f3845e10f28>"
      ]
     },
     "metadata": {},
     "output_type": "display_data"
    }
   ],
   "source": [
    "a = 0\n",
    "b = 1 #limites \n",
    "N = 1000\n",
    "\n",
    "\n",
    "def function(x):\n",
    "    return np.exp(16*x**2-12*x+2)\n",
    "\n",
    "listresp=[]\n",
    "\n",
    "\n",
    "for i in range(N):\n",
    "    xrand = random.uniform(a,b,N)\n",
    "    integral = 0\n",
    "    \n",
    "    for i in range(N):\n",
    "        integral += function(xrand[i])\n",
    "    \n",
    "    resp = 4*(b-a)/float(N)*integral\n",
    "    listresp.append(resp)\n",
    "    \n",
    "    \n",
    "plt.title(\"Integral de Monte Carlo\")\n",
    "plt.hist(listresp, bins = 30, ec = \"black\")\n",
    "plt.xlabel(\"Distribution\")\n",
    "\n",
    "print(sum(listresp)/len(listresp))"
   ]
  },
  {
   "cell_type": "markdown",
   "metadata": {},
   "source": [
    "6ª Questão $\\int_{0}^{\\infty} \\frac {x}{(1+x^2)^2} dx$, resolvendo na mão utilizando u =x² +1, du = 2xdx =>  $\\frac{1}{2} \\int_{0}^{\\infty} u^2 du$ resultado é 1/2"
   ]
  },
  {
   "cell_type": "markdown",
   "metadata": {},
   "source": [
    "7ª Questão "
   ]
  },
  {
   "cell_type": "code",
   "execution_count": 42,
   "metadata": {},
   "outputs": [
    {
     "name": "stdout",
     "output_type": "stream",
     "text": [
      "1.77171853138\n"
     ]
    },
    {
     "data": {
      "image/png": "[encoded data removed]",
      "text/plain": [
       "<matplotlib.figure.Figure at 0x7f385018ed30>"
      ]
     },
     "metadata": {},
     "output_type": "display_data"
    }
   ],
   "source": [
    "a = 0\n",
    "b = 1 #limites \n",
    "N = 1000\n",
    "\n",
    "\n",
    "def function(x):\n",
    "    return (np.exp(- (x**2)/(1-x)**2))/(1-x)**2\n",
    "\n",
    "listresp=[]\n",
    "\n",
    "\n",
    "for i in range(N):\n",
    "    xrand = random.uniform(a,b,N)\n",
    "    integral = 0\n",
    "    \n",
    "    for i in range(N):\n",
    "        integral += function(xrand[i])\n",
    "    \n",
    "    resp = 2*(b-a)/float(N)*integral\n",
    "    listresp.append(resp)\n",
    "    \n",
    "    \n",
    "plt.title(\"Integral de Monte Carlo\")\n",
    "plt.hist(listresp, bins = 30, ec = \"black\")\n",
    "plt.xlabel(\"Distribution\")\n",
    "\n",
    "print(sum(listresp)/len(listresp))"
   ]
  },
  {
   "cell_type": "markdown",
   "metadata": {},
   "source": [
    "8ª Questão"
   ]
  },
  {
   "cell_type": "code",
   "execution_count": 45,
   "metadata": {},
   "outputs": [
    {
     "name": "stdout",
     "output_type": "stream",
     "text": [
      "10.1937531309\n"
     ]
    },
    {
     "data": {
      "image/png": "[encoded data removed]",
      "text/plain": [
       "<matplotlib.figure.Figure at 0x7f3845c8ca58>"
      ]
     },
     "metadata": {},
     "output_type": "display_data"
    }
   ],
   "source": [
    "a = 0\n",
    "b =1  #limites \n",
    "N = 1000\n",
    "\n",
    "\n",
    "def function(x,y):\n",
    "    return np.exp(x+y)**2\n",
    "\n",
    "listresp=[]\n",
    "\n",
    "for i in range(N):\n",
    "    xrand = random.uniform(a,b,N)\n",
    "    yrand = random.uniform(a,b,N)\n",
    "    integral = 0\n",
    "\n",
    "    for i in range(N):\n",
    "        integral += function(xrand[i],yrand[i])\n",
    "    \n",
    "    resp = (b-a)/float(N)*integral\n",
    "    listresp.append(resp)\n",
    "    \n",
    "    \n",
    "plt.title(\"Integral de Monte Carlo\")\n",
    "plt.hist(listresp, bins = 30, ec = \"black\")\n",
    "plt.xlabel(\"Areas\")\n",
    "\n",
    "print(sum(listresp)/len(listresp))"
   ]
  },
  {
   "cell_type": "markdown",
   "metadata": {},
   "source": [
    "10ª Questão"
   ]
  },
  {
   "cell_type": "code",
   "execution_count": 62,
   "metadata": {},
   "outputs": [
    {
     "name": "stdout",
     "output_type": "stream",
     "text": [
      "Function 1\n"
     ]
    },
    {
     "data": {
      "image/png": "[encoded data removed]",
      "text/plain": [
       "<matplotlib.figure.Figure at 0x7f384571bda0>"
      ]
     },
     "metadata": {},
     "output_type": "display_data"
    },
    {
     "name": "stdout",
     "output_type": "stream",
     "text": [
      "Function 2\n"
     ]
    },
    {
     "data": {
      "image/png": "[encoded data removed]",
      "text/plain": [
       "<matplotlib.figure.Figure at 0x7f38456e4ef0>"
      ]
     },
     "metadata": {},
     "output_type": "display_data"
    },
    {
     "name": "stdout",
     "output_type": "stream",
     "text": [
      "Function 3\n"
     ]
    },
    {
     "data": {
      "image/png": "[encoded data removed]",
      "text/plain": [
       "<matplotlib.figure.Figure at 0x7f38457c3668>"
      ]
     },
     "metadata": {},
     "output_type": "display_data"
    },
    {
     "name": "stdout",
     "output_type": "stream",
     "text": [
      "--------------------------Respota é ------------------------- \n",
      "0.140302048928\n"
     ]
    }
   ],
   "source": [
    "a = 0\n",
    "b =1  #limites \n",
    "N = 1000\n",
    "\n",
    "\n",
    "def function_1(x):\n",
    "    return x*np.exp(x)\n",
    "\n",
    "def function_2(x):\n",
    "    return x\n",
    "\n",
    "def function_3(x):\n",
    "    return np.exp(x)\n",
    "\n",
    "\n",
    "\n",
    "listresp1 = []\n",
    "listresp2 = []\n",
    "listresp3 = []\n",
    "\n",
    "for i in range(N):\n",
    "    x1_rand = random.uniform(a,b,N)\n",
    "    x2_rand = random.uniform(a,b,N)\n",
    "    x3_rand = random.uniform(a,b,N)\n",
    "    integral_1 = 0\n",
    "    integral_2 = 0\n",
    "    integral_3 = 0\n",
    "    \n",
    "    for i in range(N):\n",
    "        integral_1 += function_1(x1_rand[i])\n",
    "        integral_2 += function_2(x2_rand[i])\n",
    "        integral_3 += function_3(x3_rand[i])\n",
    "    \n",
    "    resp_1 = (b-a)/float(N)*integral_1\n",
    "    listresp1.append(resp_1)\n",
    "    \n",
    "    resp_2 = (b-a)/float(N)*integral_2\n",
    "    listresp2.append(resp_2)\n",
    "    \n",
    "    resp_3 = (b-a)/float(N)*integral_3\n",
    "    listresp3.append(resp_3)\n",
    "    \n",
    "\n",
    "print(\"Function 1\")\n",
    "plt.title(\"Integral de Monte Carlo\")\n",
    "plt.hist(listresp1, bins = 30, ec = \"black\")\n",
    "plt.xlabel(\"Areas\")\n",
    "plt.show()\n",
    "    \n",
    "\n",
    "    \n",
    "print(\"Function 2\")\n",
    "plt.title(\"Integral de Monte Carlo\")\n",
    "plt.hist(listresp2, bins = 30, ec = \"black\")\n",
    "plt.xlabel(\"Areas\")\n",
    "plt.show()\n",
    "\n",
    "\n",
    "print(\"Function 3\")\n",
    "plt.title(\"Integral de Monte Carlo\")\n",
    "plt.hist(listresp3, bins = 30, ec = \"black\")\n",
    "plt.xlabel(\"Areas\")\n",
    "plt.show()\n",
    "\n",
    "\n",
    "n = len(listresp1)\n",
    "media_1 = sum(listresp1)/n\n",
    "\n",
    "n2 = len(listresp2)\n",
    "media_2 = sum(listresp2)/n2\n",
    "\n",
    "n3 = len(listresp3)\n",
    "media_3 = sum(listresp3)/n3\n",
    "\n",
    "cov = media_1 - media_2*media_3\n",
    "print(\"--------------------------Respota é ------------------------- \")\n",
    "print(cov)"
   ]
  },
  {
   "cell_type": "markdown",
   "metadata": {},
   "source": [
    "11ª Questão a)"
   ]
  },
  {
   "cell_type": "code",
   "execution_count": 66,
   "metadata": {},
   "outputs": [
    {
     "name": "stdout",
     "output_type": "stream",
     "text": [
      "Function 1\n"
     ]
    },
    {
     "data": {
      "image/png": "[encoded data removed]",
      "text/plain": [
       "<matplotlib.figure.Figure at 0x7f38455d2668>"
      ]
     },
     "metadata": {},
     "output_type": "display_data"
    },
    {
     "name": "stdout",
     "output_type": "stream",
     "text": [
      "Function 2\n"
     ]
    },
    {
     "data": {
      "image/png": "[encoded data removed]",
      "text/plain": [
       "<matplotlib.figure.Figure at 0x7f38455d2860>"
      ]
     },
     "metadata": {},
     "output_type": "display_data"
    },
    {
     "name": "stdout",
     "output_type": "stream",
     "text": [
      "Function 3\n"
     ]
    },
    {
     "data": {
      "image/png": "[encoded data removed]",
      "text/plain": [
       "<matplotlib.figure.Figure at 0x7f38454e2438>"
      ]
     },
     "metadata": {},
     "output_type": "display_data"
    },
    {
     "name": "stdout",
     "output_type": "stream",
     "text": [
      "--------------------------Respota é ------------------------- \n",
      "-0.0591914615694\n"
     ]
    }
   ],
   "source": [
    "import math\n",
    "a = 0\n",
    "b =1  #limites \n",
    "N = 1000\n",
    "\n",
    "\n",
    "def function_1(x):\n",
    "    return x*math.sqrt(1-x**2)\n",
    "\n",
    "def function_2(x):\n",
    "    return x\n",
    "\n",
    "def function_3(x):\n",
    "    return math.sqrt(1-x**2)\n",
    "\n",
    "\n",
    "\n",
    "listresp1 = []\n",
    "listresp2 = []\n",
    "listresp3 = []\n",
    "\n",
    "for i in range(N):\n",
    "    x1_rand = random.uniform(a,b,N)\n",
    "    x2_rand = random.uniform(a,b,N)\n",
    "    x3_rand = random.uniform(a,b,N)\n",
    "    integral_1 = 0\n",
    "    integral_2 = 0\n",
    "    integral_3 = 0\n",
    "    \n",
    "    for i in range(N):\n",
    "        integral_1 += function_1(x1_rand[i])\n",
    "        integral_2 += function_2(x2_rand[i])\n",
    "        integral_3 += function_3(x3_rand[i])\n",
    "    \n",
    "    resp_1 = (b-a)/float(N)*integral_1\n",
    "    listresp1.append(resp_1)\n",
    "    \n",
    "    resp_2 = (b-a)/float(N)*integral_2\n",
    "    listresp2.append(resp_2)\n",
    "    \n",
    "    resp_3 = (b-a)/float(N)*integral_3\n",
    "    listresp3.append(resp_3)\n",
    "    \n",
    "\n",
    "print(\"Function 1\")\n",
    "plt.title(\"Integral de Monte Carlo\")\n",
    "plt.hist(listresp1, bins = 30, ec = \"black\")\n",
    "plt.xlabel(\"Areas\")\n",
    "plt.show()\n",
    "    \n",
    "\n",
    "    \n",
    "print(\"Function 2\")\n",
    "plt.title(\"Integral de Monte Carlo\")\n",
    "plt.hist(listresp2, bins = 30, ec = \"black\")\n",
    "plt.xlabel(\"Areas\")\n",
    "plt.show()\n",
    "\n",
    "\n",
    "print(\"Function 3\")\n",
    "plt.title(\"Integral de Monte Carlo\")\n",
    "plt.hist(listresp3, bins = 30, ec = \"black\")\n",
    "plt.xlabel(\"Areas\")\n",
    "plt.show()\n",
    "\n",
    "\n",
    "n = len(listresp1)\n",
    "media_1 = sum(listresp1)/n\n",
    "\n",
    "n2 = len(listresp2)\n",
    "media_2 = sum(listresp2)/n2\n",
    "\n",
    "n3 = len(listresp3)\n",
    "media_3 = sum(listresp3)/n3\n",
    "\n",
    "cov = media_1 - media_2*media_3\n",
    "print(\"--------------------------Respota é ------------------------- \")\n",
    "print(cov)"
   ]
  },
  {
   "cell_type": "markdown",
   "metadata": {},
   "source": [
    "11ª Questão b)"
   ]
  },
  {
   "cell_type": "code",
   "execution_count": 67,
   "metadata": {},
   "outputs": [
    {
     "name": "stdout",
     "output_type": "stream",
     "text": [
      "Function 1\n"
     ]
    },
    {
     "data": {
      "image/png": "[encoded data removed]",
      "text/plain": [
       "<matplotlib.figure.Figure at 0x7f38455084a8>"
      ]
     },
     "metadata": {},
     "output_type": "display_data"
    },
    {
     "name": "stdout",
     "output_type": "stream",
     "text": [
      "Function 2\n"
     ]
    },
    {
     "data": {
      "image/png": "[encoded data removed]",
      "text/plain": [
       "<matplotlib.figure.Figure at 0x7f384558b438>"
      ]
     },
     "metadata": {},
     "output_type": "display_data"
    },
    {
     "name": "stdout",
     "output_type": "stream",
     "text": [
      "Function 3\n"
     ]
    },
    {
     "data": {
      "image/png": "[encoded data removed]",
      "text/plain": [
       "<matplotlib.figure.Figure at 0x7f3850135940>"
      ]
     },
     "metadata": {},
     "output_type": "display_data"
    },
    {
     "name": "stdout",
     "output_type": "stream",
     "text": [
      "--------------------------Respota é ------------------------- \n",
      "-0.0650095786183\n"
     ]
    }
   ],
   "source": [
    "import math\n",
    "a = 0\n",
    "b =1  #limites \n",
    "N = 1000\n",
    "\n",
    "\n",
    "def function_1(x):\n",
    "    return (x**2)*math.sqrt(1-x**2)\n",
    "\n",
    "def function_2(x):\n",
    "    return x**2\n",
    "\n",
    "def function_3(x):\n",
    "    return math.sqrt(1-x**2)\n",
    "\n",
    "\n",
    "\n",
    "listresp1 = []\n",
    "listresp2 = []\n",
    "listresp3 = []\n",
    "\n",
    "for i in range(N):\n",
    "    x1_rand = random.uniform(a,b,N)\n",
    "    x2_rand = random.uniform(a,b,N)\n",
    "    x3_rand = random.uniform(a,b,N)\n",
    "    integral_1 = 0\n",
    "    integral_2 = 0\n",
    "    integral_3 = 0\n",
    "    \n",
    "    for i in range(N):\n",
    "        integral_1 += function_1(x1_rand[i])\n",
    "        integral_2 += function_2(x2_rand[i])\n",
    "        integral_3 += function_3(x3_rand[i])\n",
    "    \n",
    "    resp_1 = (b-a)/float(N)*integral_1\n",
    "    listresp1.append(resp_1)\n",
    "    \n",
    "    resp_2 = (b-a)/float(N)*integral_2\n",
    "    listresp2.append(resp_2)\n",
    "    \n",
    "    resp_3 = (b-a)/float(N)*integral_3\n",
    "    listresp3.append(resp_3)\n",
    "    \n",
    "\n",
    "print(\"Function 1\")\n",
    "plt.title(\"Integral de Monte Carlo\")\n",
    "plt.hist(listresp1, bins = 30, ec = \"black\")\n",
    "plt.xlabel(\"Areas\")\n",
    "plt.show()\n",
    "    \n",
    "\n",
    "    \n",
    "print(\"Function 2\")\n",
    "plt.title(\"Integral de Monte Carlo\")\n",
    "plt.hist(listresp2, bins = 30, ec = \"black\")\n",
    "plt.xlabel(\"Areas\")\n",
    "plt.show()\n",
    "\n",
    "\n",
    "print(\"Function 3\")\n",
    "plt.title(\"Integral de Monte Carlo\")\n",
    "plt.hist(listresp3, bins = 30, ec = \"black\")\n",
    "plt.xlabel(\"Areas\")\n",
    "plt.show()\n",
    "\n",
    "\n",
    "n = len(listresp1)\n",
    "media_1 = sum(listresp1)/n\n",
    "\n",
    "n2 = len(listresp2)\n",
    "media_2 = sum(listresp2)/n2\n",
    "\n",
    "n3 = len(listresp3)\n",
    "media_3 = sum(listresp3)/n3\n",
    "\n",
    "cov = media_1 - media_2*media_3\n",
    "print(\"--------------------------Respota é ------------------------- \")\n",
    "\n",
    "print(cov)"
   ]
  },
  {
   "cell_type": "markdown",
   "metadata": {},
   "source": [
    "12ª Questão"
   ]
  },
  {
   "cell_type": "code",
   "execution_count": 31,
   "metadata": {},
   "outputs": [
    {
     "name": "stdout",
     "output_type": "stream",
     "text": [
      "E_100\n",
      "2.77\n"
     ]
    },
    {
     "data": {
      "image/png": "[encoded data removed]",
      "text/plain": [
       "<matplotlib.figure.Figure at 0x7f3a5debcb70>"
      ]
     },
     "metadata": {},
     "output_type": "display_data"
    },
    {
     "name": "stdout",
     "output_type": "stream",
     "text": [
      "E_1000\n",
      "2.726\n"
     ]
    },
    {
     "data": {
      "image/png": "[encoded data removed]",
      "text/plain": [
       "<matplotlib.figure.Figure at 0x7f3a5dc2a400>"
      ]
     },
     "metadata": {},
     "output_type": "display_data"
    },
    {
     "name": "stdout",
     "output_type": "stream",
     "text": [
      "E_10000\n",
      "2.726\n"
     ]
    },
    {
     "data": {
      "image/png": "[encoded data removed]",
      "text/plain": [
       "<matplotlib.figure.Figure at 0x7f3a5dbc6470>"
      ]
     },
     "metadata": {},
     "output_type": "display_data"
    }
   ],
   "source": [
    "def encontra_n(N):\n",
    "    lista = [];\n",
    "    for i in range(N):       \n",
    "        s = 0\n",
    "        counter = 0        \n",
    "        while (s<=1):\n",
    "            s+= random.uniform(0,1)\n",
    "            counter +=1;\n",
    "        lista.append(counter)        \n",
    "    return lista\n",
    "\n",
    "lista_e100 = encontra_n(100)\n",
    "E_100 = sum(lista_e100)/100\n",
    "print(\"E_100\")\n",
    "print(E_100)\n",
    "plt.title(\"Integral de Monte Carlo E_100\")\n",
    "plt.hist(lista_e100, bins = 30, ec = \"black\")\n",
    "plt.xlabel(\"Areas\")\n",
    "plt.show()\n",
    "\n",
    "\n",
    "lista_e1000 = encontra_n(1000)\n",
    "E_1000 = sum(lista_e1000)/1000\n",
    "print(\"E_1000\")\n",
    "print(E_1000)\n",
    "plt.title(\"Integral de Monte Carlo E_1000\")\n",
    "plt.hist(lista_e1000, bins = 30, ec = \"black\")\n",
    "plt.xlabel(\"Areas\")\n",
    "plt.show()\n",
    "\n",
    "lista_e10000 = encontra_n(10000)\n",
    "E_10000 = sum(lista_e10000)/10000\n",
    "print(\"E_10000\")\n",
    "print(E_10000)\n",
    "plt.title(\"Integral de Monte Carlo E_10000\")\n",
    "plt.hist(lista_e10000, bins = 30, ec = \"black\")\n",
    "plt.xlabel(\"Areas\")\n",
    "plt.show()\n",
    "\n",
    "#Valor de N é aproximadamente 3"
   ]
  },
  {
   "cell_type": "markdown",
   "metadata": {},
   "source": [
    "13ª Questão"
   ]
  },
  {
   "cell_type": "code",
   "execution_count": 45,
   "metadata": {},
   "outputs": [
    {
     "name": "stdout",
     "output_type": "stream",
     "text": [
      "E_1000\n",
      "3.0076\n"
     ]
    },
    {
     "data": {
      "image/png": "[encoded data removed]",
      "text/plain": [
       "<matplotlib.figure.Figure at 0x7f3a5db14c18>"
      ]
     },
     "metadata": {},
     "output_type": "display_data"
    },
    {
     "name": "stdout",
     "output_type": "stream",
     "text": [
      "Probabilidade de i = 0 é 0.0512\n",
      "Probabilidade de i = 1 é 0.1523\n",
      "Probabilidade de i = 2 é 0.2226\n",
      "Probabilidade de i = 3 é 0.2138\n",
      "Probabilidade de i = 4 é 0.1733\n",
      "Probabilidade de i = 5 é 0.1008\n",
      "Probabilidade de i = 6 é 0.0504\n",
      "Percebemos que quando aumentamos o tamanho de N a E[N] tende a 3\n"
     ]
    }
   ],
   "source": [
    "import math\n",
    "def encontra_n(N):\n",
    "    lista = [];\n",
    "    for i in range(N):       \n",
    "        s = 0\n",
    "        counter = 0        \n",
    "        while (s>=-3):\n",
    "            s+= math.log(random.uniform(0,1))\n",
    "            counter +=1;\n",
    "        counter -=1\n",
    "        lista.append(counter)        \n",
    "    return lista\n",
    "\n",
    "# a)\n",
    "n=10000\n",
    "lista_e1000 = encontra_n(n)\n",
    "E_1000 = sum(lista_e1000)/n\n",
    "print(\"E_1000\")\n",
    "print(E_1000)\n",
    "plt.title(\"Integral de Monte Carlo E_1000\")\n",
    "plt.hist(lista_e1000, bins = 30, ec = \"black\")\n",
    "plt.xlabel(\"Areas\")\n",
    "plt.show()\n",
    "\n",
    "#b) i = 0,1,2,3,4,5,6\n",
    "l0=0\n",
    "l1 =0\n",
    "l2 =0\n",
    "l3 =0\n",
    "l4 =0\n",
    "l5 =0\n",
    "l6 =0\n",
    "for i in lista_e1000:\n",
    "    if i == 0:\n",
    "        l0+=1\n",
    "        \n",
    "    elif i==1:\n",
    "        l1+=1\n",
    "        \n",
    "    elif i==2:\n",
    "        l2+=1\n",
    "        \n",
    "    elif i==3:\n",
    "        l3 +=1\n",
    "        \n",
    "    elif i ==4:\n",
    "        l4+=1\n",
    "    \n",
    "    elif i==5:\n",
    "        l5+=1\n",
    "    \n",
    "    elif i==6:\n",
    "        l6+=1\n",
    "        \n",
    "\n",
    "print(\"Probabilidade de i = 0 é \" +str(l0/n))\n",
    "print(\"Probabilidade de i = 1 é \" +str(l1/n))\n",
    "print(\"Probabilidade de i = 2 é \" +str(l2/n))\n",
    "print(\"Probabilidade de i = 3 é \" +str(l3/n))\n",
    "print(\"Probabilidade de i = 4 é \" +str(l4/n))\n",
    "print(\"Probabilidade de i = 5 é \" +str(l5/n))\n",
    "print(\"Probabilidade de i = 6 é \" +str(l6/n))\n",
    "\n",
    "print(\"Percebemos que quando aumentamos o tamanho de N a E[N] tende a 3\")\n"
   ]
  },
  {
   "cell_type": "markdown",
   "metadata": {},
   "source": [
    "14ª QUestão "
   ]
  },
  {
   "cell_type": "code",
   "execution_count": 89,
   "metadata": {},
   "outputs": [
    {
     "name": "stdout",
     "output_type": "stream",
     "text": [
      "[23, 66, 13, 69, 72, 61, 43, 34, 17, 21, 48, 49, 87, 6]\n",
      "[0.23, 0.66, 0.13, 0.69, 0.72, 0.61, 0.43, 0.34, 0.17, 0.21, 0.48, 0.49, 0.87, 0.06]\n"
     ]
    }
   ],
   "source": [
    "x = [23,66]\n",
    "for i in range(14):\n",
    "    if i >=2:\n",
    "        x.append((3*x[i-1] + 5*x[i-2])%100)\n",
    "print(x)\n",
    "\n",
    "lista_u = []\n",
    "for i in x:\n",
    "    lista_u.append(i/100)\n",
    "print(lista_u)\n",
    "\n",
    "#new_list = [i/100 for i in x if i>0]\n",
    "#new_list"
   ]
  },
  {
   "cell_type": "code",
   "execution_count": null,
   "metadata": {},
   "outputs": [],
   "source": []
  }
 ],
 "metadata": {
  "kernelspec": {
   "display_name": "Python 3",
   "language": "python",
   "name": "python3"
  },
  "language_info": {
   "codemirror_mode": {
    "name": "ipython",
    "version": 3
   },
   "file_extension": ".py",
   "mimetype": "text/x-python",
   "name": "python",
   "nbconvert_exporter": "python",
   "pygments_lexer": "ipython3",
   "version": "3.6.3"
  }
 },
 "nbformat": 4,
 "nbformat_minor": 2
}
